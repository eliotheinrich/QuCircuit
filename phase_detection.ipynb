{
 "cells": [
  {
   "cell_type": "code",
   "execution_count": 4,
   "metadata": {},
   "outputs": [],
   "source": [
    "import numpy as np\n",
    "import json"
   ]
  },
  {
   "cell_type": "code",
   "execution_count": 61,
   "metadata": {},
   "outputs": [
    {
     "name": "stdout",
     "output_type": "stream",
     "text": [
      "state = [(array([1, 1, 0, 1, 0, 0, 0, 1, 0, 0]), 1), (array([1, 0, 0, 1, 1, 0, 1, 0, 1, 1]), 0), (array([0, 1, 1, 1, 1, 0, 0, 1, 1, 0]), 0), (array([1, 0, 0, 0, 0, 0, 0, 0, 0, 0]), 1), (array([1, 0, 0, 1, 1, 0, 0, 1, 0, 0]), 1), (array([0, 1, 1, 0, 0, 0, 1, 1, 1, 0]), 0), (array([1, 1, 1, 0, 1, 0, 0, 0, 1, 0]), 1), (array([1, 1, 0, 0, 1, 0, 1, 0, 1, 1]), 1), (array([0, 0, 1, 1, 0, 1, 0, 0, 0, 0]), 0), (array([1, 1, 0, 0, 0, 0, 0, 1, 0, 1]), 0)]\n",
      "state = [(array([0, 1, 0, 1, 1, 0, 1, 1, 1, 0]), 0), (array([0, 1, 1, 1, 0, 1, 1, 1, 0, 0]), 1), (array([1, 0, 1, 0, 1, 1, 1, 0, 1, 1]), 0), (array([0, 0, 1, 1, 0, 0, 1, 0, 0, 1]), 1), (array([1, 1, 1, 1, 0, 1, 0, 0, 1, 0]), 0), (array([0, 1, 1, 0, 0, 0, 1, 1, 0, 0]), 0), (array([0, 1, 0, 1, 1, 1, 0, 1, 1, 1]), 0), (array([0, 0, 1, 0, 0, 1, 1, 0, 0, 0]), 0), (array([1, 0, 1, 0, 1, 1, 0, 1, 1, 0]), 0), (array([0, 0, 0, 1, 0, 0, 0, 0, 0, 1]), 1)]\n",
      "state = [(array([0, 1, 1, 0, 1, 0, 1, 0, 1, 1]), 1), (array([0, 1, 0, 1, 0, 0, 0, 0, 0, 0]), 1), (array([1, 1, 1, 0, 1, 0, 1, 0, 1, 1]), 0), (array([1, 1, 0, 1, 1, 0, 0, 1, 0, 0]), 1), (array([1, 1, 1, 0, 0, 0, 0, 0, 0, 1]), 1), (array([1, 0, 1, 0, 0, 1, 0, 1, 0, 0]), 1), (array([1, 0, 1, 0, 1, 0, 1, 0, 0, 0]), 0), (array([0, 1, 1, 0, 1, 1, 0, 0, 0, 0]), 0), (array([0, 1, 0, 0, 1, 0, 1, 0, 1, 1]), 0), (array([0, 0, 0, 1, 1, 0, 0, 0, 0, 0]), 1)]\n",
      "state = [(array([0, 0, 0, 0, 1, 0, 0, 0, 0, 0]), 0), (array([1, 0, 0, 0, 0, 0, 0, 0, 1, 0]), 1), (array([0, 1, 1, 0, 0, 0, 1, 1, 1, 0]), 1), (array([0, 0, 0, 1, 0, 1, 1, 0, 0, 0]), 1), (array([1, 1, 1, 0, 0, 0, 0, 0, 0, 0]), 1), (array([0, 0, 0, 1, 0, 1, 1, 0, 0, 1]), 1), (array([1, 1, 0, 0, 0, 1, 1, 0, 0, 0]), 0), (array([0, 0, 1, 0, 0, 0, 0, 0, 0, 0]), 1), (array([1, 1, 1, 0, 1, 0, 0, 0, 1, 0]), 0), (array([1, 0, 1, 1, 0, 1, 0, 0, 1, 0]), 0)]\n",
      "state = [(array([0, 0, 0, 1, 0, 0, 0, 0, 0, 0]), 1), (array([1, 0, 0, 0, 0, 0, 0, 1, 0, 0]), 1), (array([0, 0, 0, 0, 0, 0, 1, 0, 0, 0]), 0), (array([0, 0, 1, 0, 0, 1, 1, 0, 0, 0]), 0), (array([0, 0, 0, 1, 1, 0, 0, 0, 0, 0]), 0), (array([0, 0, 0, 1, 1, 0, 0, 0, 1, 1]), 1), (array([0, 0, 1, 0, 0, 0, 0, 0, 0, 0]), 1), (array([1, 1, 0, 1, 1, 0, 0, 0, 0, 0]), 1), (array([1, 0, 0, 0, 0, 0, 0, 0, 0, 0]), 0), (array([0, 0, 0, 1, 0, 0, 1, 0, 0, 1]), 1)]\n",
      "state = [(array([0, 0, 0, 1, 0, 0, 0, 0, 0, 0]), 0), (array([1, 1, 0, 1, 1, 0, 1, 0, 0, 1]), 1), (array([1, 0, 0, 0, 0, 0, 0, 0, 0, 0]), 0), (array([1, 0, 0, 1, 1, 0, 1, 0, 0, 0]), 1), (array([1, 0, 0, 1, 0, 0, 0, 1, 0, 0]), 0), (array([0, 1, 1, 1, 0, 0, 0, 1, 1, 0]), 1), (array([0, 0, 0, 0, 1, 0, 0, 0, 0, 0]), 1), (array([1, 1, 1, 0, 0, 1, 0, 1, 0, 0]), 0), (array([1, 1, 0, 1, 1, 0, 0, 1, 0, 0]), 0), (array([0, 0, 1, 0, 1, 0, 1, 0, 0, 0]), 1)]\n",
      "state = [(array([0, 0, 0, 0, 0, 1, 1, 1, 0, 0]), 1), (array([1, 0, 1, 1, 1, 1, 1, 0, 1, 0]), 0), (array([0, 0, 0, 0, 0, 0, 0, 1, 0, 1]), 0), (array([1, 0, 1, 1, 1, 1, 0, 1, 0, 0]), 0), (array([0, 1, 1, 0, 1, 0, 1, 1, 0, 0]), 0), (array([1, 0, 0, 0, 0, 0, 1, 1, 0, 0]), 0), (array([0, 0, 0, 1, 0, 0, 0, 0, 0, 0]), 0), (array([0, 0, 0, 0, 1, 0, 0, 0, 0, 0]), 1), (array([0, 1, 1, 1, 1, 0, 0, 0, 0, 0]), 0), (array([1, 0, 1, 1, 1, 1, 1, 1, 0, 0]), 0)]\n",
      "state = [(array([1, 0, 0, 1, 1, 0, 0, 0, 0, 0]), 0), (array([0, 1, 1, 0, 0, 1, 0, 0, 1, 0]), 0), (array([1, 1, 0, 0, 1, 0, 0, 1, 0, 0]), 1), (array([1, 1, 0, 1, 0, 0, 0, 0, 0, 0]), 1), (array([1, 1, 1, 0, 0, 1, 1, 0, 0, 1]), 0), (array([1, 1, 0, 0, 0, 1, 1, 0, 0, 0]), 0), (array([0, 0, 0, 1, 0, 0, 0, 0, 0, 0]), 1), (array([0, 0, 1, 0, 0, 0, 0, 0, 0, 0]), 0), (array([1, 0, 1, 0, 0, 0, 1, 0, 0, 0]), 1), (array([0, 0, 0, 0, 1, 0, 0, 0, 0, 0]), 0)]\n",
      "state = [(array([0, 1, 0, 0, 0, 1, 0, 0, 0, 0]), 0), (array([1, 0, 0, 1, 1, 0, 1, 0, 0, 0]), 0), (array([0, 0, 0, 0, 0, 0, 0, 0, 1, 1]), 0), (array([0, 0, 0, 1, 1, 0, 0, 1, 0, 0]), 1), (array([0, 1, 1, 0, 0, 0, 0, 0, 0, 1]), 0), (array([1, 0, 0, 0, 0, 0, 0, 0, 0, 0]), 0), (array([0, 1, 0, 0, 0, 0, 0, 0, 0, 0]), 1), (array([0, 0, 0, 1, 0, 0, 0, 0, 0, 0]), 0), (array([0, 0, 1, 0, 0, 0, 0, 0, 0, 0]), 1), (array([0, 0, 0, 1, 1, 0, 0, 0, 0, 0]), 0)]\n"
     ]
    }
   ],
   "source": [
    "def parse_datafield(s: str):\n",
    "\tif list(s.keys())[0] == 'Data':\n",
    "\t\tsample = s[list(s.keys())[0]]\n",
    "\t\treturn np.array(sample)\n",
    "\telse:\n",
    "\t\treturn np.array([s[list(s.keys())[0]]])\n",
    "\n",
    "def parse_line(s: str):\n",
    "\ti = s.index('|')\n",
    "\tstab = np.array([int(c) for c in s[:i]])\n",
    "\tphase = int(s[i+1])\n",
    "\treturn stab, phase\n",
    "\n",
    "def parse_chp_state(s: str):\n",
    "\tlines = [line.replace('[', '').replace(']', '').replace(' ', '') for line in s['Str'].split('\\n')[1:-1]]\n",
    "\tstabs = [parse_line(line) for line in lines]\n",
    "\treturn stabs\n",
    "\n",
    "def load_chp_states(filename: str):\n",
    "\twith open(filename, 'r') as f:\n",
    "\t\tjson_contents = json.load(f)\n",
    "\t\tnum_states = parse_datafield(json_contents['params']['num_states'])[0]\n",
    "\t\tnum_slides = len(json_contents['slides'])\n",
    "\t\tmzr_probs = np.zeros(num_slides)\n",
    "\t\tstates = []\n",
    "\t\tfor slide in json_contents['slides']:\n",
    "\t\t\tfor key in slide['data'].keys():\n",
    "\t\t\t\tif key[:5] == \"state\":\n",
    "\t\t\t\t\tstate = parse_chp_state(slide['data'][key])\n",
    "\t\t\t\t\tstates.append(state)\n",
    "\tdel json_contents\n",
    "\n",
    "\treturn mzr_probs, states\n",
    "\n",
    "\t\t\n",
    "def load_graph_states(filename: str):\n",
    "\tmzr_probs = []\n",
    "\n",
    "load_chp_states(\"data/test.json\")"
   ]
  },
  {
   "cell_type": "code",
   "execution_count": null,
   "metadata": {},
   "outputs": [],
   "source": []
  }
 ],
 "metadata": {
  "kernelspec": {
   "display_name": "Python 3",
   "language": "python",
   "name": "python3"
  },
  "language_info": {
   "codemirror_mode": {
    "name": "ipython",
    "version": 3
   },
   "file_extension": ".py",
   "mimetype": "text/x-python",
   "name": "python",
   "nbconvert_exporter": "python",
   "pygments_lexer": "ipython3",
   "version": "3.8.3"
  },
  "orig_nbformat": 4,
  "vscode": {
   "interpreter": {
    "hash": "f07217243836eb188aa520b6d2586e743be7d0589fc70f7a9418b7510f5d00bc"
   }
  }
 },
 "nbformat": 4,
 "nbformat_minor": 2
}
